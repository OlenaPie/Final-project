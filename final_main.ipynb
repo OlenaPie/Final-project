{
 "cells": [
  {
   "cell_type": "markdown",
   "metadata": {},
   "source": [
    "#### Data import"
   ]
  },
  {
   "cell_type": "code",
   "execution_count": 49,
   "metadata": {},
   "outputs": [],
   "source": [
    "import pandas as pd\n",
    "import matplotlib.pyplot as plt\n",
    "import seaborn as sns \n",
    "from sklearn.model_selection import train_test_split\n",
    "from sklearn.linear_model import LogisticRegression\n",
    "from sklearn import metrics\n",
    "from sklearn.metrics import confusion_matrix\n",
    "import numpy as np\n",
    "from mlxtend.plotting import plot_confusion_matrix\n",
    "from imblearn.over_sampling import SMOTE\n",
    "from sklearn.metrics import confusion_matrix, classification_report\n",
    "from imblearn.under_sampling import NearMiss\n",
    "from sklearn.ensemble import RandomForestClassifier\n",
    "from sklearn.ensemble import RandomForestClassifier\n",
    "from sklearn.metrics import accuracy_score\n",
    "from sklearn.tree import DecisionTreeClassifier\n",
    "import keras\n",
    "from keras.models import Sequential\n",
    "from keras.layers import Dense\n",
    "from sklearn.metrics import mean_squared_error \n",
    "from sklearn.ensemble import GradientBoostingRegressor\n",
    "from sklearn.metrics import r2_score\n",
    "from sklearn.svm import LinearSVC\n",
    "import time"
   ]
  },
  {
   "cell_type": "code",
   "execution_count": 4,
   "metadata": {},
   "outputs": [],
   "source": [
    "data = pd.read_csv(\"fraud_detection.csv\")"
   ]
  },
  {
   "cell_type": "code",
   "execution_count": 5,
   "metadata": {},
   "outputs": [
    {
     "data": {
      "text/html": [
       "<div>\n",
       "<style scoped>\n",
       "    .dataframe tbody tr th:only-of-type {\n",
       "        vertical-align: middle;\n",
       "    }\n",
       "\n",
       "    .dataframe tbody tr th {\n",
       "        vertical-align: top;\n",
       "    }\n",
       "\n",
       "    .dataframe thead th {\n",
       "        text-align: right;\n",
       "    }\n",
       "</style>\n",
       "<table border=\"1\" class=\"dataframe\">\n",
       "  <thead>\n",
       "    <tr style=\"text-align: right;\">\n",
       "      <th></th>\n",
       "      <th>Unnamed: 0</th>\n",
       "      <th>step</th>\n",
       "      <th>type</th>\n",
       "      <th>amount</th>\n",
       "      <th>nameOrig</th>\n",
       "      <th>oldbalanceOrg</th>\n",
       "      <th>newbalanceOrig</th>\n",
       "      <th>nameDest</th>\n",
       "      <th>oldbalanceDest</th>\n",
       "      <th>newbalanceDest</th>\n",
       "      <th>isFraud</th>\n",
       "      <th>isFlaggedFraud</th>\n",
       "    </tr>\n",
       "  </thead>\n",
       "  <tbody>\n",
       "    <tr>\n",
       "      <th>0</th>\n",
       "      <td>2</td>\n",
       "      <td>1</td>\n",
       "      <td>TRANSFER</td>\n",
       "      <td>181.0</td>\n",
       "      <td>C1305486145</td>\n",
       "      <td>181.0</td>\n",
       "      <td>0.0</td>\n",
       "      <td>C553264065</td>\n",
       "      <td>0.0</td>\n",
       "      <td>0.0</td>\n",
       "      <td>1</td>\n",
       "      <td>0</td>\n",
       "    </tr>\n",
       "    <tr>\n",
       "      <th>1</th>\n",
       "      <td>3</td>\n",
       "      <td>1</td>\n",
       "      <td>CASH_OUT</td>\n",
       "      <td>181.0</td>\n",
       "      <td>C840083671</td>\n",
       "      <td>181.0</td>\n",
       "      <td>0.0</td>\n",
       "      <td>C38997010</td>\n",
       "      <td>21182.0</td>\n",
       "      <td>0.0</td>\n",
       "      <td>1</td>\n",
       "      <td>0</td>\n",
       "    </tr>\n",
       "    <tr>\n",
       "      <th>2</th>\n",
       "      <td>251</td>\n",
       "      <td>1</td>\n",
       "      <td>TRANSFER</td>\n",
       "      <td>2806.0</td>\n",
       "      <td>C1420196421</td>\n",
       "      <td>2806.0</td>\n",
       "      <td>0.0</td>\n",
       "      <td>C972765878</td>\n",
       "      <td>0.0</td>\n",
       "      <td>0.0</td>\n",
       "      <td>1</td>\n",
       "      <td>0</td>\n",
       "    </tr>\n",
       "    <tr>\n",
       "      <th>3</th>\n",
       "      <td>252</td>\n",
       "      <td>1</td>\n",
       "      <td>CASH_OUT</td>\n",
       "      <td>2806.0</td>\n",
       "      <td>C2101527076</td>\n",
       "      <td>2806.0</td>\n",
       "      <td>0.0</td>\n",
       "      <td>C1007251739</td>\n",
       "      <td>26202.0</td>\n",
       "      <td>0.0</td>\n",
       "      <td>1</td>\n",
       "      <td>0</td>\n",
       "    </tr>\n",
       "    <tr>\n",
       "      <th>4</th>\n",
       "      <td>680</td>\n",
       "      <td>1</td>\n",
       "      <td>TRANSFER</td>\n",
       "      <td>20128.0</td>\n",
       "      <td>C137533655</td>\n",
       "      <td>20128.0</td>\n",
       "      <td>0.0</td>\n",
       "      <td>C1848415041</td>\n",
       "      <td>0.0</td>\n",
       "      <td>0.0</td>\n",
       "      <td>1</td>\n",
       "      <td>0</td>\n",
       "    </tr>\n",
       "  </tbody>\n",
       "</table>\n",
       "</div>"
      ],
      "text/plain": [
       "   Unnamed: 0  step      type   amount     nameOrig  oldbalanceOrg  \\\n",
       "0           2     1  TRANSFER    181.0  C1305486145          181.0   \n",
       "1           3     1  CASH_OUT    181.0   C840083671          181.0   \n",
       "2         251     1  TRANSFER   2806.0  C1420196421         2806.0   \n",
       "3         252     1  CASH_OUT   2806.0  C2101527076         2806.0   \n",
       "4         680     1  TRANSFER  20128.0   C137533655        20128.0   \n",
       "\n",
       "   newbalanceOrig     nameDest  oldbalanceDest  newbalanceDest  isFraud  \\\n",
       "0             0.0   C553264065             0.0             0.0        1   \n",
       "1             0.0    C38997010         21182.0             0.0        1   \n",
       "2             0.0   C972765878             0.0             0.0        1   \n",
       "3             0.0  C1007251739         26202.0             0.0        1   \n",
       "4             0.0  C1848415041             0.0             0.0        1   \n",
       "\n",
       "   isFlaggedFraud  \n",
       "0               0  \n",
       "1               0  \n",
       "2               0  \n",
       "3               0  \n",
       "4               0  "
      ]
     },
     "execution_count": 5,
     "metadata": {},
     "output_type": "execute_result"
    }
   ],
   "source": [
    "data.head()"
   ]
  },
  {
   "cell_type": "markdown",
   "metadata": {},
   "source": [
    "#### Data vizualization"
   ]
  },
  {
   "cell_type": "markdown",
   "metadata": {},
   "source": [
    "In the dataset we have 2 variables, which describe the fraud occurence: isFraud and isFlaggedFraud. I have a believe that \n",
    "isFraud = isFlaggedFraud. So I will plot them according to number of fraud transaction. I would also like to investiate which types of transactions ar likely to be fraud.  "
   ]
  },
  {
   "cell_type": "raw",
   "metadata": {},
   "source": [
    "data.shape"
   ]
  },
  {
   "cell_type": "code",
   "execution_count": 6,
   "metadata": {},
   "outputs": [
    {
     "data": {
      "text/plain": [
       "Text(0, 0.5, 'Count of transaction')"
      ]
     },
     "execution_count": 6,
     "metadata": {},
     "output_type": "execute_result"
    },
    {
     "data": {
      "image/png": "[encoded data removed]",
      "text/plain": [
       "<Figure size 432x288 with 1 Axes>"
      ]
     },
     "metadata": {
      "needs_background": "light"
     },
     "output_type": "display_data"
    }
   ],
   "source": [
    "ax = data.groupby(['type', 'isFraud']).size().plot(kind='bar')\n",
    "ax.set_title(\"# of transaction which are the actual fraud per transaction type\")\n",
    "ax.set_xlabel(\"(Type, isFraud)\")\n",
    "ax.set_ylabel(\"Count of transaction\")"
   ]
  },
  {
   "cell_type": "markdown",
   "metadata": {},
   "source": [
    "We can see on the plot that only cash_out and transfer have fraud transactions. "
   ]
  },
  {
   "cell_type": "code",
   "execution_count": 7,
   "metadata": {},
   "outputs": [
    {
     "data": {
      "text/plain": [
       "Text(0, 0.5, 'Count of transaction')"
      ]
     },
     "execution_count": 7,
     "metadata": {},
     "output_type": "execute_result"
    },
    {
     "data": {
      "image/png": "[encoded data removed]",
      "text/plain": [
       "<Figure size 432x288 with 1 Axes>"
      ]
     },
     "metadata": {
      "needs_background": "light"
     },
     "output_type": "display_data"
    }
   ],
   "source": [
    "ax = data.groupby(['type', 'isFlaggedFraud']).size().plot(kind='bar')\n",
    "ax.set_title(\"# of transaction which is flagged as fraud per transaction type\")\n",
    "ax.set_xlabel(\"(Type, isFlaggedFraud)\")\n",
    "ax.set_ylabel(\"Count of transaction\")"
   ]
  },
  {
   "cell_type": "markdown",
   "metadata": {},
   "source": [
    "We can see that only transfer have fraud transaction. "
   ]
  },
  {
   "cell_type": "markdown",
   "metadata": {},
   "source": [
    "##### IsFraud != isFlaggedFraud. isFlaggedFraud variable does not explain the fraud accurance at all; so it is insignificant variable. "
   ]
  },
  {
   "cell_type": "markdown",
   "metadata": {},
   "source": [
    "### Data preparation"
   ]
  },
  {
   "cell_type": "code",
   "execution_count": 8,
   "metadata": {},
   "outputs": [
    {
     "name": "stdout",
     "output_type": "stream",
     "text": [
      "<class 'pandas.core.frame.DataFrame'>\n",
      "RangeIndex: 308213 entries, 0 to 308212\n",
      "Data columns (total 12 columns):\n",
      "Unnamed: 0        308213 non-null int64\n",
      "step              308213 non-null int64\n",
      "type              308213 non-null object\n",
      "amount            308213 non-null float64\n",
      "nameOrig          308213 non-null object\n",
      "oldbalanceOrg     308213 non-null float64\n",
      "newbalanceOrig    308213 non-null float64\n",
      "nameDest          308213 non-null object\n",
      "oldbalanceDest    308213 non-null float64\n",
      "newbalanceDest    308213 non-null float64\n",
      "isFraud           308213 non-null int64\n",
      "isFlaggedFraud    308213 non-null int64\n",
      "dtypes: float64(5), int64(4), object(3)\n",
      "memory usage: 28.2+ MB\n"
     ]
    }
   ],
   "source": [
    "data.info()"
   ]
  },
  {
   "cell_type": "markdown",
   "metadata": {},
   "source": [
    "Preparation before choosing chategorical values."
   ]
  },
  {
   "cell_type": "code",
   "execution_count": 9,
   "metadata": {},
   "outputs": [
    {
     "name": "stdout",
     "output_type": "stream",
     "text": [
      "Number of unique variables in 'type' : 5 \n"
     ]
    }
   ],
   "source": [
    "type_num = len(data['type'].unique().tolist())\n",
    "print(\"Number of unique variables in 'type' : {} \".format(type_num))"
   ]
  },
  {
   "cell_type": "code",
   "execution_count": 10,
   "metadata": {},
   "outputs": [
    {
     "name": "stdout",
     "output_type": "stream",
     "text": [
      "Number of unique variables in 'type' : 254139 \n"
     ]
    }
   ],
   "source": [
    "type_num = len(data['nameDest'].unique().tolist())\n",
    "print(\"Number of unique variables in 'type' : {} \".format(type_num))"
   ]
  },
  {
   "cell_type": "code",
   "execution_count": 11,
   "metadata": {},
   "outputs": [
    {
     "name": "stdout",
     "output_type": "stream",
     "text": [
      "Number of unique variables in 'type' : 307785 \n"
     ]
    }
   ],
   "source": [
    "type_num = len(data['nameOrig'].unique().tolist())\n",
    "print(\"Number of unique variables in 'type' : {} \".format(type_num))"
   ]
  },
  {
   "cell_type": "markdown",
   "metadata": {},
   "source": [
    "##### So 'nameDest' and  'nameOrig' have a lot of unique variables and can not be transfered to chategorical variables. Unless the variable 'type'."
   ]
  },
  {
   "cell_type": "markdown",
   "metadata": {},
   "source": [
    "Check for missing values"
   ]
  },
  {
   "cell_type": "code",
   "execution_count": 12,
   "metadata": {},
   "outputs": [
    {
     "data": {
      "text/plain": [
       "Unnamed: 0        0\n",
       "step              0\n",
       "type              0\n",
       "amount            0\n",
       "nameOrig          0\n",
       "oldbalanceOrg     0\n",
       "newbalanceOrig    0\n",
       "nameDest          0\n",
       "oldbalanceDest    0\n",
       "newbalanceDest    0\n",
       "isFraud           0\n",
       "isFlaggedFraud    0\n",
       "dtype: int64"
      ]
     },
     "execution_count": 12,
     "metadata": {},
     "output_type": "execute_result"
    }
   ],
   "source": [
    "data.isnull().sum()"
   ]
  },
  {
   "cell_type": "code",
   "execution_count": 13,
   "metadata": {},
   "outputs": [
    {
     "data": {
      "image/png": "[encoded data removed]",
      "text/plain": [
       "<Figure size 432x288 with 1 Axes>"
      ]
     },
     "metadata": {
      "needs_background": "light"
     },
     "output_type": "display_data"
    }
   ],
   "source": [
    "sns.distplot(data['oldbalanceOrg']);"
   ]
  },
  {
   "cell_type": "code",
   "execution_count": 14,
   "metadata": {},
   "outputs": [
    {
     "data": {
      "image/png": "[encoded data removed]",
      "text/plain": [
       "<Figure size 432x288 with 1 Axes>"
      ]
     },
     "metadata": {
      "needs_background": "light"
     },
     "output_type": "display_data"
    }
   ],
   "source": [
    "sns.distplot(data['newbalanceOrig']);"
   ]
  },
  {
   "cell_type": "markdown",
   "metadata": {},
   "source": [
    "We can see that a lot of transactins have old and new balance staying zero, even though the non zero amount was transfered. The solution is to create new variable, which will compure this error."
   ]
  },
  {
   "cell_type": "code",
   "execution_count": 15,
   "metadata": {},
   "outputs": [],
   "source": [
    "data['errorBalanceOrig'] = data.newbalanceOrig + data.amount - data.oldbalanceOrg\n",
    "data['errorBalanceDest'] = data.oldbalanceDest + data.amount - data.newbalanceDest"
   ]
  },
  {
   "cell_type": "code",
   "execution_count": 16,
   "metadata": {},
   "outputs": [
    {
     "data": {
      "text/html": [
       "<div>\n",
       "<style scoped>\n",
       "    .dataframe tbody tr th:only-of-type {\n",
       "        vertical-align: middle;\n",
       "    }\n",
       "\n",
       "    .dataframe tbody tr th {\n",
       "        vertical-align: top;\n",
       "    }\n",
       "\n",
       "    .dataframe thead th {\n",
       "        text-align: right;\n",
       "    }\n",
       "</style>\n",
       "<table border=\"1\" class=\"dataframe\">\n",
       "  <thead>\n",
       "    <tr style=\"text-align: right;\">\n",
       "      <th></th>\n",
       "      <th>Unnamed: 0</th>\n",
       "      <th>step</th>\n",
       "      <th>type</th>\n",
       "      <th>amount</th>\n",
       "      <th>nameOrig</th>\n",
       "      <th>oldbalanceOrg</th>\n",
       "      <th>newbalanceOrig</th>\n",
       "      <th>nameDest</th>\n",
       "      <th>oldbalanceDest</th>\n",
       "      <th>newbalanceDest</th>\n",
       "      <th>isFraud</th>\n",
       "      <th>isFlaggedFraud</th>\n",
       "      <th>errorBalanceOrig</th>\n",
       "      <th>errorBalanceDest</th>\n",
       "    </tr>\n",
       "  </thead>\n",
       "  <tbody>\n",
       "    <tr>\n",
       "      <th>0</th>\n",
       "      <td>2</td>\n",
       "      <td>1</td>\n",
       "      <td>TRANSFER</td>\n",
       "      <td>181.0</td>\n",
       "      <td>C1305486145</td>\n",
       "      <td>181.0</td>\n",
       "      <td>0.0</td>\n",
       "      <td>C553264065</td>\n",
       "      <td>0.0</td>\n",
       "      <td>0.0</td>\n",
       "      <td>1</td>\n",
       "      <td>0</td>\n",
       "      <td>0.0</td>\n",
       "      <td>181.0</td>\n",
       "    </tr>\n",
       "    <tr>\n",
       "      <th>1</th>\n",
       "      <td>3</td>\n",
       "      <td>1</td>\n",
       "      <td>CASH_OUT</td>\n",
       "      <td>181.0</td>\n",
       "      <td>C840083671</td>\n",
       "      <td>181.0</td>\n",
       "      <td>0.0</td>\n",
       "      <td>C38997010</td>\n",
       "      <td>21182.0</td>\n",
       "      <td>0.0</td>\n",
       "      <td>1</td>\n",
       "      <td>0</td>\n",
       "      <td>0.0</td>\n",
       "      <td>21363.0</td>\n",
       "    </tr>\n",
       "    <tr>\n",
       "      <th>2</th>\n",
       "      <td>251</td>\n",
       "      <td>1</td>\n",
       "      <td>TRANSFER</td>\n",
       "      <td>2806.0</td>\n",
       "      <td>C1420196421</td>\n",
       "      <td>2806.0</td>\n",
       "      <td>0.0</td>\n",
       "      <td>C972765878</td>\n",
       "      <td>0.0</td>\n",
       "      <td>0.0</td>\n",
       "      <td>1</td>\n",
       "      <td>0</td>\n",
       "      <td>0.0</td>\n",
       "      <td>2806.0</td>\n",
       "    </tr>\n",
       "    <tr>\n",
       "      <th>3</th>\n",
       "      <td>252</td>\n",
       "      <td>1</td>\n",
       "      <td>CASH_OUT</td>\n",
       "      <td>2806.0</td>\n",
       "      <td>C2101527076</td>\n",
       "      <td>2806.0</td>\n",
       "      <td>0.0</td>\n",
       "      <td>C1007251739</td>\n",
       "      <td>26202.0</td>\n",
       "      <td>0.0</td>\n",
       "      <td>1</td>\n",
       "      <td>0</td>\n",
       "      <td>0.0</td>\n",
       "      <td>29008.0</td>\n",
       "    </tr>\n",
       "    <tr>\n",
       "      <th>4</th>\n",
       "      <td>680</td>\n",
       "      <td>1</td>\n",
       "      <td>TRANSFER</td>\n",
       "      <td>20128.0</td>\n",
       "      <td>C137533655</td>\n",
       "      <td>20128.0</td>\n",
       "      <td>0.0</td>\n",
       "      <td>C1848415041</td>\n",
       "      <td>0.0</td>\n",
       "      <td>0.0</td>\n",
       "      <td>1</td>\n",
       "      <td>0</td>\n",
       "      <td>0.0</td>\n",
       "      <td>20128.0</td>\n",
       "    </tr>\n",
       "  </tbody>\n",
       "</table>\n",
       "</div>"
      ],
      "text/plain": [
       "   Unnamed: 0  step      type   amount     nameOrig  oldbalanceOrg  \\\n",
       "0           2     1  TRANSFER    181.0  C1305486145          181.0   \n",
       "1           3     1  CASH_OUT    181.0   C840083671          181.0   \n",
       "2         251     1  TRANSFER   2806.0  C1420196421         2806.0   \n",
       "3         252     1  CASH_OUT   2806.0  C2101527076         2806.0   \n",
       "4         680     1  TRANSFER  20128.0   C137533655        20128.0   \n",
       "\n",
       "   newbalanceOrig     nameDest  oldbalanceDest  newbalanceDest  isFraud  \\\n",
       "0             0.0   C553264065             0.0             0.0        1   \n",
       "1             0.0    C38997010         21182.0             0.0        1   \n",
       "2             0.0   C972765878             0.0             0.0        1   \n",
       "3             0.0  C1007251739         26202.0             0.0        1   \n",
       "4             0.0  C1848415041             0.0             0.0        1   \n",
       "\n",
       "   isFlaggedFraud  errorBalanceOrig  errorBalanceDest  \n",
       "0               0               0.0             181.0  \n",
       "1               0               0.0           21363.0  \n",
       "2               0               0.0            2806.0  \n",
       "3               0               0.0           29008.0  \n",
       "4               0               0.0           20128.0  "
      ]
     },
     "execution_count": 16,
     "metadata": {},
     "output_type": "execute_result"
    }
   ],
   "source": [
    "data.head()"
   ]
  },
  {
   "cell_type": "markdown",
   "metadata": {},
   "source": [
    "Find correlated variables"
   ]
  },
  {
   "cell_type": "code",
   "execution_count": 17,
   "metadata": {},
   "outputs": [
    {
     "data": {
      "text/html": [
       "<div>\n",
       "<style scoped>\n",
       "    .dataframe tbody tr th:only-of-type {\n",
       "        vertical-align: middle;\n",
       "    }\n",
       "\n",
       "    .dataframe tbody tr th {\n",
       "        vertical-align: top;\n",
       "    }\n",
       "\n",
       "    .dataframe thead th {\n",
       "        text-align: right;\n",
       "    }\n",
       "</style>\n",
       "<table border=\"1\" class=\"dataframe\">\n",
       "  <thead>\n",
       "    <tr style=\"text-align: right;\">\n",
       "      <th></th>\n",
       "      <th>Unnamed: 0</th>\n",
       "      <th>step</th>\n",
       "      <th>amount</th>\n",
       "      <th>oldbalanceOrg</th>\n",
       "      <th>newbalanceOrig</th>\n",
       "      <th>oldbalanceDest</th>\n",
       "      <th>newbalanceDest</th>\n",
       "      <th>isFraud</th>\n",
       "      <th>isFlaggedFraud</th>\n",
       "      <th>errorBalanceOrig</th>\n",
       "      <th>errorBalanceDest</th>\n",
       "    </tr>\n",
       "  </thead>\n",
       "  <tbody>\n",
       "    <tr>\n",
       "      <th>Unnamed: 0</th>\n",
       "      <td>1.000000</td>\n",
       "      <td>0.961922</td>\n",
       "      <td>0.050819</td>\n",
       "      <td>-0.000197</td>\n",
       "      <td>-0.009238</td>\n",
       "      <td>0.029044</td>\n",
       "      <td>0.030765</td>\n",
       "      <td>0.094834</td>\n",
       "      <td>0.009717</td>\n",
       "      <td>0.019395</td>\n",
       "      <td>0.040088</td>\n",
       "    </tr>\n",
       "    <tr>\n",
       "      <th>step</th>\n",
       "      <td>0.961922</td>\n",
       "      <td>1.000000</td>\n",
       "      <td>0.061321</td>\n",
       "      <td>-0.000741</td>\n",
       "      <td>-0.013866</td>\n",
       "      <td>0.023143</td>\n",
       "      <td>0.025892</td>\n",
       "      <td>0.141423</td>\n",
       "      <td>0.014336</td>\n",
       "      <td>0.012925</td>\n",
       "      <td>0.050573</td>\n",
       "    </tr>\n",
       "    <tr>\n",
       "      <th>amount</th>\n",
       "      <td>0.050819</td>\n",
       "      <td>0.061321</td>\n",
       "      <td>1.000000</td>\n",
       "      <td>0.098006</td>\n",
       "      <td>0.003156</td>\n",
       "      <td>0.239750</td>\n",
       "      <td>0.408346</td>\n",
       "      <td>0.280715</td>\n",
       "      <td>0.045635</td>\n",
       "      <td>0.774128</td>\n",
       "      <td>0.099724</td>\n",
       "    </tr>\n",
       "    <tr>\n",
       "      <th>oldbalanceOrg</th>\n",
       "      <td>-0.000197</td>\n",
       "      <td>-0.000741</td>\n",
       "      <td>0.098006</td>\n",
       "      <td>1.000000</td>\n",
       "      <td>0.986572</td>\n",
       "      <td>0.061556</td>\n",
       "      <td>0.045440</td>\n",
       "      <td>0.045421</td>\n",
       "      <td>0.017188</td>\n",
       "      <td>0.048225</td>\n",
       "      <td>0.199995</td>\n",
       "    </tr>\n",
       "    <tr>\n",
       "      <th>newbalanceOrig</th>\n",
       "      <td>-0.009238</td>\n",
       "      <td>-0.013866</td>\n",
       "      <td>0.003156</td>\n",
       "      <td>0.986572</td>\n",
       "      <td>1.000000</td>\n",
       "      <td>0.066241</td>\n",
       "      <td>0.038671</td>\n",
       "      <td>-0.037883</td>\n",
       "      <td>0.017263</td>\n",
       "      <td>0.059389</td>\n",
       "      <td>0.146079</td>\n",
       "    </tr>\n",
       "    <tr>\n",
       "      <th>oldbalanceDest</th>\n",
       "      <td>0.029044</td>\n",
       "      <td>0.023143</td>\n",
       "      <td>0.239750</td>\n",
       "      <td>0.061556</td>\n",
       "      <td>0.066241</td>\n",
       "      <td>1.000000</td>\n",
       "      <td>0.971511</td>\n",
       "      <td>-0.027753</td>\n",
       "      <td>-0.002386</td>\n",
       "      <td>0.315133</td>\n",
       "      <td>-0.049136</td>\n",
       "    </tr>\n",
       "    <tr>\n",
       "      <th>newbalanceDest</th>\n",
       "      <td>0.030765</td>\n",
       "      <td>0.025892</td>\n",
       "      <td>0.408346</td>\n",
       "      <td>0.045440</td>\n",
       "      <td>0.038671</td>\n",
       "      <td>0.971511</td>\n",
       "      <td>1.000000</td>\n",
       "      <td>0.001695</td>\n",
       "      <td>-0.002468</td>\n",
       "      <td>0.467399</td>\n",
       "      <td>-0.179130</td>\n",
       "    </tr>\n",
       "    <tr>\n",
       "      <th>isFraud</th>\n",
       "      <td>0.094834</td>\n",
       "      <td>0.141423</td>\n",
       "      <td>0.280715</td>\n",
       "      <td>0.045421</td>\n",
       "      <td>-0.037883</td>\n",
       "      <td>-0.027753</td>\n",
       "      <td>0.001695</td>\n",
       "      <td>1.000000</td>\n",
       "      <td>0.043774</td>\n",
       "      <td>-0.051189</td>\n",
       "      <td>0.196005</td>\n",
       "    </tr>\n",
       "    <tr>\n",
       "      <th>isFlaggedFraud</th>\n",
       "      <td>0.009717</td>\n",
       "      <td>0.014336</td>\n",
       "      <td>0.045635</td>\n",
       "      <td>0.017188</td>\n",
       "      <td>0.017263</td>\n",
       "      <td>-0.002386</td>\n",
       "      <td>-0.002468</td>\n",
       "      <td>0.043774</td>\n",
       "      <td>1.000000</td>\n",
       "      <td>0.056074</td>\n",
       "      <td>0.062202</td>\n",
       "    </tr>\n",
       "    <tr>\n",
       "      <th>errorBalanceOrig</th>\n",
       "      <td>0.019395</td>\n",
       "      <td>0.012925</td>\n",
       "      <td>0.774128</td>\n",
       "      <td>0.048225</td>\n",
       "      <td>0.059389</td>\n",
       "      <td>0.315133</td>\n",
       "      <td>0.467399</td>\n",
       "      <td>-0.051189</td>\n",
       "      <td>0.056074</td>\n",
       "      <td>1.000000</td>\n",
       "      <td>-0.134844</td>\n",
       "    </tr>\n",
       "    <tr>\n",
       "      <th>errorBalanceDest</th>\n",
       "      <td>0.040088</td>\n",
       "      <td>0.050573</td>\n",
       "      <td>0.099724</td>\n",
       "      <td>0.199995</td>\n",
       "      <td>0.146079</td>\n",
       "      <td>-0.049136</td>\n",
       "      <td>-0.179130</td>\n",
       "      <td>0.196005</td>\n",
       "      <td>0.062202</td>\n",
       "      <td>-0.134844</td>\n",
       "      <td>1.000000</td>\n",
       "    </tr>\n",
       "  </tbody>\n",
       "</table>\n",
       "</div>"
      ],
      "text/plain": [
       "                  Unnamed: 0      step    amount  oldbalanceOrg  \\\n",
       "Unnamed: 0          1.000000  0.961922  0.050819      -0.000197   \n",
       "step                0.961922  1.000000  0.061321      -0.000741   \n",
       "amount              0.050819  0.061321  1.000000       0.098006   \n",
       "oldbalanceOrg      -0.000197 -0.000741  0.098006       1.000000   \n",
       "newbalanceOrig     -0.009238 -0.013866  0.003156       0.986572   \n",
       "oldbalanceDest      0.029044  0.023143  0.239750       0.061556   \n",
       "newbalanceDest      0.030765  0.025892  0.408346       0.045440   \n",
       "isFraud             0.094834  0.141423  0.280715       0.045421   \n",
       "isFlaggedFraud      0.009717  0.014336  0.045635       0.017188   \n",
       "errorBalanceOrig    0.019395  0.012925  0.774128       0.048225   \n",
       "errorBalanceDest    0.040088  0.050573  0.099724       0.199995   \n",
       "\n",
       "                  newbalanceOrig  oldbalanceDest  newbalanceDest   isFraud  \\\n",
       "Unnamed: 0             -0.009238        0.029044        0.030765  0.094834   \n",
       "step                   -0.013866        0.023143        0.025892  0.141423   \n",
       "amount                  0.003156        0.239750        0.408346  0.280715   \n",
       "oldbalanceOrg           0.986572        0.061556        0.045440  0.045421   \n",
       "newbalanceOrig          1.000000        0.066241        0.038671 -0.037883   \n",
       "oldbalanceDest          0.066241        1.000000        0.971511 -0.027753   \n",
       "newbalanceDest          0.038671        0.971511        1.000000  0.001695   \n",
       "isFraud                -0.037883       -0.027753        0.001695  1.000000   \n",
       "isFlaggedFraud          0.017263       -0.002386       -0.002468  0.043774   \n",
       "errorBalanceOrig        0.059389        0.315133        0.467399 -0.051189   \n",
       "errorBalanceDest        0.146079       -0.049136       -0.179130  0.196005   \n",
       "\n",
       "                  isFlaggedFraud  errorBalanceOrig  errorBalanceDest  \n",
       "Unnamed: 0              0.009717          0.019395          0.040088  \n",
       "step                    0.014336          0.012925          0.050573  \n",
       "amount                  0.045635          0.774128          0.099724  \n",
       "oldbalanceOrg           0.017188          0.048225          0.199995  \n",
       "newbalanceOrig          0.017263          0.059389          0.146079  \n",
       "oldbalanceDest         -0.002386          0.315133         -0.049136  \n",
       "newbalanceDest         -0.002468          0.467399         -0.179130  \n",
       "isFraud                 0.043774         -0.051189          0.196005  \n",
       "isFlaggedFraud          1.000000          0.056074          0.062202  \n",
       "errorBalanceOrig        0.056074          1.000000         -0.134844  \n",
       "errorBalanceDest        0.062202         -0.134844          1.000000  "
      ]
     },
     "execution_count": 17,
     "metadata": {},
     "output_type": "execute_result"
    }
   ],
   "source": [
    "data.corr()"
   ]
  },
  {
   "cell_type": "code",
   "execution_count": 18,
   "metadata": {},
   "outputs": [
    {
     "data": {
      "text/plain": [
       "<matplotlib.axes._subplots.AxesSubplot at 0x7f4597fdc048>"
      ]
     },
     "execution_count": 18,
     "metadata": {},
     "output_type": "execute_result"
    },
    {
     "data": {
      "image/png": "[encoded data removed]",
      "text/plain": [
       "<Figure size 720x576 with 2 Axes>"
      ]
     },
     "metadata": {
      "needs_background": "light"
     },
     "output_type": "display_data"
    }
   ],
   "source": [
    "plt.figure(figsize=(10,8))\n",
    "sns.heatmap(data.corr(), annot = True, fmt = '.3f')"
   ]
  },
  {
   "cell_type": "markdown",
   "metadata": {},
   "source": [
    "We have found correlated variables, so they need to be droped"
   ]
  },
  {
   "cell_type": "code",
   "execution_count": 19,
   "metadata": {},
   "outputs": [],
   "source": [
    "data = data.drop(['oldbalanceDest','oldbalanceOrg', 'isFlaggedFraud'],axis = 1)"
   ]
  },
  {
   "cell_type": "code",
   "execution_count": 20,
   "metadata": {},
   "outputs": [
    {
     "data": {
      "text/plain": [
       "(308213, 11)"
      ]
     },
     "execution_count": 20,
     "metadata": {},
     "output_type": "execute_result"
    }
   ],
   "source": [
    "data.shape"
   ]
  },
  {
   "cell_type": "code",
   "execution_count": 21,
   "metadata": {},
   "outputs": [],
   "source": [
    "df = pd.get_dummies(data['type'], drop_first=True)"
   ]
  },
  {
   "cell_type": "code",
   "execution_count": 22,
   "metadata": {},
   "outputs": [],
   "source": [
    "data = pd.concat([data,df],axis=1)"
   ]
  },
  {
   "cell_type": "code",
   "execution_count": 23,
   "metadata": {},
   "outputs": [],
   "source": [
    "data.drop(labels = ['type','nameOrig','nameDest','DEBIT','PAYMENT'], axis=1,inplace=True)"
   ]
  },
  {
   "cell_type": "code",
   "execution_count": 24,
   "metadata": {},
   "outputs": [
    {
     "data": {
      "text/html": [
       "<div>\n",
       "<style scoped>\n",
       "    .dataframe tbody tr th:only-of-type {\n",
       "        vertical-align: middle;\n",
       "    }\n",
       "\n",
       "    .dataframe tbody tr th {\n",
       "        vertical-align: top;\n",
       "    }\n",
       "\n",
       "    .dataframe thead th {\n",
       "        text-align: right;\n",
       "    }\n",
       "</style>\n",
       "<table border=\"1\" class=\"dataframe\">\n",
       "  <thead>\n",
       "    <tr style=\"text-align: right;\">\n",
       "      <th></th>\n",
       "      <th>Unnamed: 0</th>\n",
       "      <th>step</th>\n",
       "      <th>amount</th>\n",
       "      <th>newbalanceOrig</th>\n",
       "      <th>newbalanceDest</th>\n",
       "      <th>isFraud</th>\n",
       "      <th>errorBalanceOrig</th>\n",
       "      <th>errorBalanceDest</th>\n",
       "      <th>CASH_OUT</th>\n",
       "      <th>TRANSFER</th>\n",
       "    </tr>\n",
       "  </thead>\n",
       "  <tbody>\n",
       "    <tr>\n",
       "      <th>0</th>\n",
       "      <td>2</td>\n",
       "      <td>1</td>\n",
       "      <td>181.0</td>\n",
       "      <td>0.0</td>\n",
       "      <td>0.0</td>\n",
       "      <td>1</td>\n",
       "      <td>0.0</td>\n",
       "      <td>181.0</td>\n",
       "      <td>0</td>\n",
       "      <td>1</td>\n",
       "    </tr>\n",
       "    <tr>\n",
       "      <th>1</th>\n",
       "      <td>3</td>\n",
       "      <td>1</td>\n",
       "      <td>181.0</td>\n",
       "      <td>0.0</td>\n",
       "      <td>0.0</td>\n",
       "      <td>1</td>\n",
       "      <td>0.0</td>\n",
       "      <td>21363.0</td>\n",
       "      <td>1</td>\n",
       "      <td>0</td>\n",
       "    </tr>\n",
       "    <tr>\n",
       "      <th>2</th>\n",
       "      <td>251</td>\n",
       "      <td>1</td>\n",
       "      <td>2806.0</td>\n",
       "      <td>0.0</td>\n",
       "      <td>0.0</td>\n",
       "      <td>1</td>\n",
       "      <td>0.0</td>\n",
       "      <td>2806.0</td>\n",
       "      <td>0</td>\n",
       "      <td>1</td>\n",
       "    </tr>\n",
       "    <tr>\n",
       "      <th>3</th>\n",
       "      <td>252</td>\n",
       "      <td>1</td>\n",
       "      <td>2806.0</td>\n",
       "      <td>0.0</td>\n",
       "      <td>0.0</td>\n",
       "      <td>1</td>\n",
       "      <td>0.0</td>\n",
       "      <td>29008.0</td>\n",
       "      <td>1</td>\n",
       "      <td>0</td>\n",
       "    </tr>\n",
       "    <tr>\n",
       "      <th>4</th>\n",
       "      <td>680</td>\n",
       "      <td>1</td>\n",
       "      <td>20128.0</td>\n",
       "      <td>0.0</td>\n",
       "      <td>0.0</td>\n",
       "      <td>1</td>\n",
       "      <td>0.0</td>\n",
       "      <td>20128.0</td>\n",
       "      <td>0</td>\n",
       "      <td>1</td>\n",
       "    </tr>\n",
       "  </tbody>\n",
       "</table>\n",
       "</div>"
      ],
      "text/plain": [
       "   Unnamed: 0  step   amount  newbalanceOrig  newbalanceDest  isFraud  \\\n",
       "0           2     1    181.0             0.0             0.0        1   \n",
       "1           3     1    181.0             0.0             0.0        1   \n",
       "2         251     1   2806.0             0.0             0.0        1   \n",
       "3         252     1   2806.0             0.0             0.0        1   \n",
       "4         680     1  20128.0             0.0             0.0        1   \n",
       "\n",
       "   errorBalanceOrig  errorBalanceDest  CASH_OUT  TRANSFER  \n",
       "0               0.0             181.0         0         1  \n",
       "1               0.0           21363.0         1         0  \n",
       "2               0.0            2806.0         0         1  \n",
       "3               0.0           29008.0         1         0  \n",
       "4               0.0           20128.0         0         1  "
      ]
     },
     "execution_count": 24,
     "metadata": {},
     "output_type": "execute_result"
    }
   ],
   "source": [
    "data.head()"
   ]
  },
  {
   "cell_type": "code",
   "execution_count": 25,
   "metadata": {},
   "outputs": [
    {
     "data": {
      "text/plain": [
       "(308213, 10)"
      ]
     },
     "execution_count": 25,
     "metadata": {},
     "output_type": "execute_result"
    }
   ],
   "source": [
    "data.shape"
   ]
  },
  {
   "cell_type": "markdown",
   "metadata": {},
   "source": [
    "### Dealing with imbalance data. Over and Under-sampling "
   ]
  },
  {
   "cell_type": "code",
   "execution_count": 26,
   "metadata": {},
   "outputs": [],
   "source": [
    "is_Fraud = data.loc[data['isFraud']==1]\n",
    "not_Fraud = data.loc[data['isFraud']==0]\n",
    "normal_distributed_df = pd.concat([is_Fraud, not_Fraud])\n",
    "new_df = normal_distributed_df.sample(frac=1, random_state=42)"
   ]
  },
  {
   "cell_type": "code",
   "execution_count": 27,
   "metadata": {},
   "outputs": [
    {
     "data": {
      "image/png": "[encoded data removed]",
      "text/plain": [
       "<Figure size 432x288 with 1 Axes>"
      ]
     },
     "metadata": {
      "needs_background": "light"
     },
     "output_type": "display_data"
    }
   ],
   "source": [
    "sns.countplot(\"isFraud\", data=new_df).set_title(\"\");"
   ]
  },
  {
   "cell_type": "markdown",
   "metadata": {},
   "source": [
    "We can see that data is highly unbalance. Lets see how this will reflect on model accuracies"
   ]
  },
  {
   "cell_type": "code",
   "execution_count": 28,
   "metadata": {},
   "outputs": [],
   "source": [
    "X = data.drop('isFraud', axis=1)\n",
    "y = data['isFraud']"
   ]
  },
  {
   "cell_type": "code",
   "execution_count": 29,
   "metadata": {},
   "outputs": [],
   "source": [
    "x_train, x_test, y_train, y_test = train_test_split(X, y, test_size=0.33, random_state=42)"
   ]
  },
  {
   "cell_type": "code",
   "execution_count": 51,
   "metadata": {},
   "outputs": [
    {
     "name": "stdout",
     "output_type": "stream",
     "text": [
      "11.857204675674438\n"
     ]
    }
   ],
   "source": [
    "model = LogisticRegression(solver='lbfgs', max_iter = 1000)\n",
    "time1 =time.time()\n",
    "model.fit(x_train, y_train)\n",
    "time2 = time.time()\n",
    "print(time2-time1)"
   ]
  },
  {
   "cell_type": "code",
   "execution_count": 31,
   "metadata": {},
   "outputs": [
    {
     "name": "stdout",
     "output_type": "stream",
     "text": [
      "Training accuracy: 0.9832786123136822\n",
      "Testing accuracy:  0.9828140515775088\n"
     ]
    }
   ],
   "source": [
    "print(\"Training accuracy: {}\".format(model.score(x_train, y_train)))\n",
    "\n",
    "predicted_1 = model.predict(x_test)\n",
    "\n",
    "print(\"Testing accuracy:  {}\".format(metrics.accuracy_score(y_test, predicted_1)))"
   ]
  },
  {
   "cell_type": "code",
   "execution_count": 32,
   "metadata": {},
   "outputs": [
    {
     "name": "stdout",
     "output_type": "stream",
     "text": [
      "              precision    recall  f1-score   support\n",
      "\n",
      "           0       0.99      0.99      0.99     98888\n",
      "           1       0.70      0.66      0.68      2823\n",
      "\n",
      "    accuracy                           0.98    101711\n",
      "   macro avg       0.85      0.83      0.84    101711\n",
      "weighted avg       0.98      0.98      0.98    101711\n",
      "\n"
     ]
    }
   ],
   "source": [
    "print(classification_report(y_test, predicted_1)) "
   ]
  },
  {
   "cell_type": "markdown",
   "metadata": {},
   "source": [
    "### Overfitting"
   ]
  },
  {
   "cell_type": "code",
   "execution_count": 33,
   "metadata": {},
   "outputs": [
    {
     "data": {
      "text/plain": [
       "0    200701\n",
       "1      5801\n",
       "Name: isFraud, dtype: int64"
      ]
     },
     "execution_count": 33,
     "metadata": {},
     "output_type": "execute_result"
    }
   ],
   "source": [
    "y_train.value_counts()"
   ]
  },
  {
   "cell_type": "code",
   "execution_count": 34,
   "metadata": {},
   "outputs": [],
   "source": [
    "smt = SMOTE()\n",
    "x_train_over, y_train_over = smt.fit_sample(x_train, y_train)"
   ]
  },
  {
   "cell_type": "code",
   "execution_count": 35,
   "metadata": {},
   "outputs": [
    {
     "data": {
      "text/plain": [
       "array([200701, 200701])"
      ]
     },
     "execution_count": 35,
     "metadata": {},
     "output_type": "execute_result"
    }
   ],
   "source": [
    "np.bincount(y_train_over)"
   ]
  },
  {
   "cell_type": "code",
   "execution_count": 52,
   "metadata": {},
   "outputs": [
    {
     "name": "stdout",
     "output_type": "stream",
     "text": [
      "16.10359263420105\n"
     ]
    }
   ],
   "source": [
    "model1 = LogisticRegression(solver='lbfgs', max_iter = 1000)\n",
    "time1 =time.time()\n",
    "model1.fit(x_train_over, y_train_over)\n",
    "time2 = time.time()\n",
    "print(time2-time1)"
   ]
  },
  {
   "cell_type": "code",
   "execution_count": 37,
   "metadata": {},
   "outputs": [
    {
     "name": "stdout",
     "output_type": "stream",
     "text": [
      "Training accuracy: 0.9136277347895626\n",
      "Testing accuracy:  0.9219553440630807\n"
     ]
    }
   ],
   "source": [
    "print(\"Training accuracy: {}\".format(model1.score(x_train_over, y_train_over)))\n",
    "\n",
    "predicted_2 = model1.predict(x_test)\n",
    "\n",
    "print(\"Testing accuracy:  {}\".format(metrics.accuracy_score(y_test, predicted_2)))"
   ]
  },
  {
   "cell_type": "code",
   "execution_count": 38,
   "metadata": {},
   "outputs": [
    {
     "name": "stdout",
     "output_type": "stream",
     "text": [
      "              precision    recall  f1-score   support\n",
      "\n",
      "           0       1.00      0.92      0.96     98888\n",
      "           1       0.25      0.90      0.39      2823\n",
      "\n",
      "    accuracy                           0.92    101711\n",
      "   macro avg       0.62      0.91      0.67    101711\n",
      "weighted avg       0.98      0.92      0.94    101711\n",
      "\n"
     ]
    }
   ],
   "source": [
    "print(classification_report(y_test, predicted_2)) "
   ]
  },
  {
   "cell_type": "markdown",
   "metadata": {},
   "source": [
    "### Underfitting"
   ]
  },
  {
   "cell_type": "code",
   "execution_count": 39,
   "metadata": {},
   "outputs": [],
   "source": [
    "nr = NearMiss()\n",
    "x_train_under, y_train_under = nr.fit_sample(x_train, y_train)"
   ]
  },
  {
   "cell_type": "code",
   "execution_count": 38,
   "metadata": {},
   "outputs": [
    {
     "data": {
      "text/plain": [
       "array([5801, 5801])"
      ]
     },
     "execution_count": 38,
     "metadata": {},
     "output_type": "execute_result"
    }
   ],
   "source": [
    "np.bincount(y_train_under)"
   ]
  },
  {
   "cell_type": "code",
   "execution_count": 53,
   "metadata": {},
   "outputs": [
    {
     "name": "stdout",
     "output_type": "stream",
     "text": [
      "10.163719892501831\n"
     ]
    }
   ],
   "source": [
    "model2 = LogisticRegression(solver='lbfgs', max_iter = 1000)\n",
    "time1 = time.time()\n",
    "model2.fit(x_train_under, y_train_under)\n",
    "time2 = time.time()\n",
    "print(time2-time1)"
   ]
  },
  {
   "cell_type": "code",
   "execution_count": 40,
   "metadata": {},
   "outputs": [
    {
     "name": "stdout",
     "output_type": "stream",
     "text": [
      "Training accuracy: 0.9325116359248405\n",
      "Testing accuracy:  0.3404253227281218\n"
     ]
    }
   ],
   "source": [
    "print(\"Training accuracy: {}\".format(model2.score(x_train_under, y_train_under)))\n",
    "\n",
    "predicted_3 = model2.predict(x_test)\n",
    "\n",
    "print(\"Testing accuracy:  {}\".format(metrics.accuracy_score(y_test, predicted_3)))"
   ]
  },
  {
   "cell_type": "code",
   "execution_count": 41,
   "metadata": {},
   "outputs": [
    {
     "name": "stdout",
     "output_type": "stream",
     "text": [
      "              precision    recall  f1-score   support\n",
      "\n",
      "           0       0.99      0.32      0.49     98888\n",
      "           1       0.04      0.94      0.07      2823\n",
      "\n",
      "    accuracy                           0.34    101711\n",
      "   macro avg       0.52      0.63      0.28    101711\n",
      "weighted avg       0.97      0.34      0.48    101711\n",
      "\n"
     ]
    }
   ],
   "source": [
    "print(classification_report(y_test, predicted_3)) "
   ]
  },
  {
   "cell_type": "markdown",
   "metadata": {},
   "source": [
    "The model has high recall for major Class, but very small for minor. Sp the fraud detection will not work well"
   ]
  },
  {
   "cell_type": "markdown",
   "metadata": {},
   "source": [
    "The model has much higher recall for minor Class, but smaller for major. The results are pretty good. "
   ]
  },
  {
   "cell_type": "markdown",
   "metadata": {},
   "source": [
    "The model has higher recall for minor Class, but very small for major. So we will return to the previous model"
   ]
  },
  {
   "cell_type": "markdown",
   "metadata": {},
   "source": [
    "### Decision tree"
   ]
  },
  {
   "cell_type": "code",
   "execution_count": 54,
   "metadata": {},
   "outputs": [
    {
     "name": "stdout",
     "output_type": "stream",
     "text": [
      "1.911684274673462\n"
     ]
    }
   ],
   "source": [
    "classifier = DecisionTreeClassifier(random_state = 0,\n",
    "                                    criterion = 'gini',  splitter='best', min_samples_leaf=1, min_samples_split=2)\n",
    "time1 = time.time()\n",
    "classifier.fit(x_train_over, y_train_over)\n",
    "time2 = time.time()\n",
    "print(time2-time1)\n",
    "y_pred1 = classifier.predict(x_test)\n"
   ]
  },
  {
   "cell_type": "code",
   "execution_count": 41,
   "metadata": {},
   "outputs": [
    {
     "name": "stdout",
     "output_type": "stream",
     "text": [
      "Training accuracy: 1.0\n",
      "Testing accuracy:  0.9991741306250062\n"
     ]
    }
   ],
   "source": [
    "print(\"Training accuracy: {}\".format(classifier.score(x_train_under, y_train_under)))\n",
    "\n",
    "print(\"Testing accuracy:  {}\".format(metrics.accuracy_score(y_test, y_pred1)))"
   ]
  },
  {
   "cell_type": "code",
   "execution_count": 34,
   "metadata": {},
   "outputs": [
    {
     "name": "stdout",
     "output_type": "stream",
     "text": [
      "              precision    recall  f1-score   support\n",
      "\n",
      "           0       1.00      1.00      1.00     98888\n",
      "           1       0.97      1.00      0.98      2823\n",
      "\n",
      "    accuracy                           1.00    101711\n",
      "   macro avg       0.99      1.00      0.99    101711\n",
      "weighted avg       1.00      1.00      1.00    101711\n",
      "\n"
     ]
    }
   ],
   "source": [
    "print(classification_report(y_test, y_pred1)) \n"
   ]
  },
  {
   "cell_type": "code",
   "execution_count": 35,
   "metadata": {},
   "outputs": [
    {
     "data": {
      "image/png": "[encoded data removed]",
      "text/plain": [
       "<Figure size 432x288 with 1 Axes>"
      ]
     },
     "metadata": {
      "needs_background": "light"
     },
     "output_type": "display_data"
    }
   ],
   "source": [
    "feat_importances = pd.Series(classifier.feature_importances_, index=X.columns)\n",
    "feat_importances.nlargest(11).plot(kind='barh')\n",
    "plt.title(\"Feature importance\")\n",
    "plt.show()"
   ]
  },
  {
   "cell_type": "code",
   "execution_count": 36,
   "metadata": {},
   "outputs": [
    {
     "name": "stdout",
     "output_type": "stream",
     "text": [
      "Unnamed: 0          0.001028\n",
      "step                0.002354\n",
      "amount              0.033317\n",
      "newbalanceOrig      0.305361\n",
      "newbalanceDest      0.001908\n",
      "errorBalanceOrig    0.649279\n",
      "errorBalanceDest    0.005181\n",
      "CASH_OUT            0.000570\n",
      "TRANSFER            0.001002\n",
      "dtype: float64\n"
     ]
    }
   ],
   "source": [
    "print(feat_importances)"
   ]
  },
  {
   "cell_type": "markdown",
   "metadata": {},
   "source": [
    "### Neural technique"
   ]
  },
  {
   "cell_type": "code",
   "execution_count": 51,
   "metadata": {},
   "outputs": [
    {
     "name": "stdout",
     "output_type": "stream",
     "text": [
      "Epoch 1/4\n",
      "401402/401402 [==============================] - 48s 120us/step - loss: 0.6046 - accuracy: 0.8771\n",
      "Epoch 2/4\n",
      "401402/401402 [==============================] - 43s 106us/step - loss: 0.2909 - accuracy: 0.9102\n",
      "Epoch 3/4\n",
      "401402/401402 [==============================] - 45s 111us/step - loss: 0.3668 - accuracy: 0.8639\n",
      "Epoch 4/4\n",
      "401402/401402 [==============================] - 42s 105us/step - loss: 0.2833 - accuracy: 0.9351\n"
     ]
    },
    {
     "data": {
      "text/plain": [
       "<keras.callbacks.callbacks.History at 0x7f6da42ca710>"
      ]
     },
     "execution_count": 51,
     "metadata": {},
     "output_type": "execute_result"
    }
   ],
   "source": [
    "classifier = Sequential()\n",
    "# Adding the input layer and the first hidden layer\n",
    "classifier.add(Dense(units =11 , kernel_initializer = 'uniform', activation = 'relu', input_dim = 11))\n",
    "# Adding the second hidden layer\n",
    "classifier.add(Dense(units = 11, kernel_initializer = 'uniform', activation = 'relu'))\n",
    "# Adding the output layer\n",
    "classifier.add(Dense(units = 1, kernel_initializer = 'uniform', activation = 'sigmoid'))\n",
    "# Compiling the ANN\n",
    "classifier.compile(optimizer = 'adam', loss = 'binary_crossentropy', metrics = ['accuracy'])\n",
    "# Fitting the ANN to the Training set\n",
    "classifier.fit(x_train_over, y_train_over, batch_size = 32, epochs = 4)"
   ]
  },
  {
   "cell_type": "markdown",
   "metadata": {},
   "source": [
    "### Support vactor machine"
   ]
  },
  {
   "cell_type": "code",
   "execution_count": 43,
   "metadata": {},
   "outputs": [],
   "source": [
    "svc = LinearSVC()"
   ]
  },
  {
   "cell_type": "code",
   "execution_count": 55,
   "metadata": {},
   "outputs": [
    {
     "name": "stdout",
     "output_type": "stream",
     "text": [
      "89.1942834854126\n"
     ]
    },
    {
     "name": "stderr",
     "output_type": "stream",
     "text": [
      "/srv/conda/envs/notebook/lib/python3.7/site-packages/sklearn/svm/base.py:929: ConvergenceWarning: Liblinear failed to converge, increase the number of iterations.\n",
      "  \"the number of iterations.\", ConvergenceWarning)\n"
     ]
    }
   ],
   "source": [
    "time1 = time.time()\n",
    "svc.fit(x_train_over, y_train_over)\n",
    "time2 = time.time()\n",
    "print(time2-time1)"
   ]
  },
  {
   "cell_type": "code",
   "execution_count": 45,
   "metadata": {},
   "outputs": [],
   "source": [
    "y_pred = svc.predict(x_test)"
   ]
  },
  {
   "cell_type": "code",
   "execution_count": 46,
   "metadata": {},
   "outputs": [
    {
     "name": "stdout",
     "output_type": "stream",
     "text": [
      "              precision    recall  f1-score   support\n",
      "\n",
      "           0       1.00      0.97      0.98     98888\n",
      "           1       0.46      0.85      0.59      2823\n",
      "\n",
      "    accuracy                           0.97    101711\n",
      "   macro avg       0.73      0.91      0.79    101711\n",
      "weighted avg       0.98      0.97      0.97    101711\n",
      "\n"
     ]
    }
   ],
   "source": [
    "print(classification_report(y_test, y_pred)) "
   ]
  },
  {
   "cell_type": "code",
   "execution_count": 47,
   "metadata": {},
   "outputs": [
    {
     "name": "stdout",
     "output_type": "stream",
     "text": [
      "Training accuracy: 0.9082916738493363\n",
      "Testing accuracy:  0.9679484028276194\n"
     ]
    }
   ],
   "source": [
    "print(\"Training accuracy: {}\".format(svc.score(x_train_under, y_train_under)))\n",
    "\n",
    "print(\"Testing accuracy:  {}\".format(metrics.accuracy_score(y_test, y_pred)))"
   ]
  },
  {
   "cell_type": "code",
   "execution_count": null,
   "metadata": {},
   "outputs": [],
   "source": []
  }
 ],
 "metadata": {
  "kernelspec": {
   "display_name": "Python 3",
   "language": "python",
   "name": "python3"
  },
  "language_info": {
   "codemirror_mode": {
    "name": "ipython",
    "version": 3
   },
   "file_extension": ".py",
   "mimetype": "text/x-python",
   "name": "python",
   "nbconvert_exporter": "python",
   "pygments_lexer": "ipython3",
   "version": "3.7.3"
  }
 },
 "nbformat": 4,
 "nbformat_minor": 4
}
